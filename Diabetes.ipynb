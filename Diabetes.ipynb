{
  "nbformat": 4,
  "nbformat_minor": 0,
  "metadata": {
    "colab": {
      "name": "Diabetes.ipynb",
      "provenance": [],
      "include_colab_link": true
    },
    "kernelspec": {
      "name": "python3",
      "display_name": "Python 3"
    },
    "accelerator": "GPU"
  },
  "cells": [
    {
      "cell_type": "markdown",
      "metadata": {
        "id": "view-in-github",
        "colab_type": "text"
      },
      "source": [
        "<a href=\"https://colab.research.google.com/github/YKochura/KaggleInClass/blob/master/Diabetes.ipynb\" target=\"_parent\"><img src=\"https://colab.research.google.com/assets/colab-badge.svg\" alt=\"Open In Colab\"/></a>"
      ]
    },
    {
      "cell_type": "markdown",
      "metadata": {
        "id": "GmiTBuu7YHRj",
        "colab_type": "text"
      },
      "source": [
        "#1. Using Kaggle Datasets in Google Colab\n"
      ]
    },
    {
      "cell_type": "markdown",
      "metadata": {
        "id": "nKzaHfwRSlfo",
        "colab_type": "text"
      },
      "source": [
        "###1.1 Install the kaggle API using command below"
      ]
    },
    {
      "cell_type": "code",
      "metadata": {
        "id": "OR7NlhqcbjXU",
        "colab_type": "code",
        "colab": {}
      },
      "source": [
        "!pip3 install -q kaggle"
      ],
      "execution_count": 0,
      "outputs": []
    },
    {
      "cell_type": "markdown",
      "metadata": {
        "id": "gE0uOtWEVPwG",
        "colab_type": "text"
      },
      "source": [
        "###1.2 Create an API key in Kaggle\n",
        "To do this, go to `kaggle.com/` and open your user settings page. \n",
        "![](https://drive.google.com/uc?id=1DwmtAwHUpWdzlkXFoHclIa7E1j7HO6dg) \n",
        "\n"
      ]
    },
    {
      "cell_type": "markdown",
      "metadata": {
        "id": "8P8raYrvXUzN",
        "colab_type": "text"
      },
      "source": [
        "###1.3 Scroll down to the API access section and click **Create New API Token** button to download an API key. \n",
        "![](https://drive.google.com/uc?id=10r8ZhhODbMsW34CQM9Cfj4yjZjYMRNAd)\n",
        "\n",
        "This will download a file called `kaggle.json` to your computer. You'll use this file in Colab to access Kaggle datasets and competitions.\n",
        "\n"
      ]
    },
    {
      "cell_type": "markdown",
      "metadata": {
        "id": "I4RTvUnDZ3g3",
        "colab_type": "text"
      },
      "source": [
        "###1.4 Upload your `kaggle.json` file using the following snippet in a code cell:"
      ]
    },
    {
      "cell_type": "code",
      "metadata": {
        "id": "JZugTo40b70q",
        "colab_type": "code",
        "colab": {}
      },
      "source": [
        "from google.colab import files"
      ],
      "execution_count": 0,
      "outputs": []
    },
    {
      "cell_type": "code",
      "metadata": {
        "id": "F9J2Ci5AVyZ-",
        "colab_type": "code",
        "outputId": "d3efbe0f-c2f9-4ecc-b55b-fb71d6fcb8f9",
        "colab": {
          "resources": {
            "http://localhost:8080/nbextensions/google.colab/files.js": {
              "data": "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",
              "ok": true,
              "headers": [
                [
                  "content-type",
                  "application/javascript"
                ]
              ],
              "status": 200,
              "status_text": "OK"
            }
          },
          "base_uri": "https://localhost:8080/",
          "height": 48
        }
      },
      "source": [
        "uploaded = files.upload()"
      ],
      "execution_count": 0,
      "outputs": [
        {
          "output_type": "display_data",
          "data": {
            "text/html": [
              "\n",
              "     <input type=\"file\" id=\"files-f1d64146-99f1-4e4c-823e-374db57a3367\" name=\"files[]\" multiple disabled />\n",
              "     <output id=\"result-f1d64146-99f1-4e4c-823e-374db57a3367\">\n",
              "      Upload widget is only available when the cell has been executed in the\n",
              "      current browser session. Please rerun this cell to enable.\n",
              "      </output>\n",
              "      <script src=\"/nbextensions/google.colab/files.js\"></script> "
            ],
            "text/plain": [
              "<IPython.core.display.HTML object>"
            ]
          },
          "metadata": {
            "tags": []
          }
        }
      ]
    },
    {
      "cell_type": "code",
      "metadata": {
        "id": "Le8TWCRfZj-Z",
        "colab_type": "code",
        "outputId": "58f10dc4-1615-4a1e-eece-13fee8a9fa30",
        "colab": {
          "base_uri": "https://localhost:8080/",
          "height": 35
        }
      },
      "source": [
        "!ls"
      ],
      "execution_count": 0,
      "outputs": [
        {
          "output_type": "stream",
          "text": [
            "kaggle.json  sample_data\n"
          ],
          "name": "stdout"
        }
      ]
    },
    {
      "cell_type": "markdown",
      "metadata": {
        "id": "chNfr70sa-vE",
        "colab_type": "text"
      },
      "source": [
        "###1.5 Move the `kaggle.json` file into `~/.kaggle`, which is where the API client expects your token to be located:"
      ]
    },
    {
      "cell_type": "code",
      "metadata": {
        "id": "D3gKrwFcbbOh",
        "colab_type": "code",
        "outputId": "277e1432-6090-4a23-d55b-c9de78def074",
        "colab": {
          "base_uri": "https://localhost:8080/",
          "height": 35
        }
      },
      "source": [
        "!mkdir ~/.kaggle\n",
        "!cp kaggle.json ~/.kaggle/\n",
        "!ls ~/.kaggle"
      ],
      "execution_count": 0,
      "outputs": [
        {
          "output_type": "stream",
          "text": [
            "kaggle.json\n"
          ],
          "name": "stdout"
        }
      ]
    },
    {
      "cell_type": "markdown",
      "metadata": {
        "id": "gveqXv30BYwd",
        "colab_type": "text"
      },
      "source": [
        "###1.5 Set permission to read and write for `kaggle.json`"
      ]
    },
    {
      "cell_type": "code",
      "metadata": {
        "id": "jMNM3CySdIv7",
        "colab_type": "code",
        "colab": {}
      },
      "source": [
        "!chmod 600 ~/.kaggle/kaggle.json"
      ],
      "execution_count": 0,
      "outputs": []
    },
    {
      "cell_type": "code",
      "metadata": {
        "id": "PwsocbotNvWQ",
        "colab_type": "code",
        "outputId": "fcc345c4-4354-416f-cdcf-2d82a0077273",
        "colab": {
          "base_uri": "https://localhost:8080/",
          "height": 201
        }
      },
      "source": [
        "!kaggle competitions download -c kpid"
      ],
      "execution_count": 0,
      "outputs": [
        {
          "output_type": "stream",
          "text": [
            "Warning: Looks like you're using an outdated API Version, please consider updating (server 1.5.6 / client 1.5.4)\n",
            "Downloading train.csv to /content\n",
            "  0% 0.00/19.6k [00:00<?, ?B/s]\n",
            "100% 19.6k/19.6k [00:00<00:00, 17.7MB/s]\n",
            "Downloading test.csv to /content\n",
            "  0% 0.00/8.21k [00:00<?, ?B/s]\n",
            "100% 8.21k/8.21k [00:00<00:00, 7.24MB/s]\n",
            "Downloading sample_submission.csv to /content\n",
            "  0% 0.00/1.34k [00:00<?, ?B/s]\n",
            "100% 1.34k/1.34k [00:00<00:00, 1.19MB/s]\n"
          ],
          "name": "stdout"
        }
      ]
    },
    {
      "cell_type": "code",
      "metadata": {
        "id": "wmLxupBROCVC",
        "colab_type": "code",
        "outputId": "1526e3ab-e022-412c-ed26-970ddebff5c0",
        "colab": {
          "base_uri": "https://localhost:8080/",
          "height": 54
        }
      },
      "source": [
        "!ls\n",
        "!pwd"
      ],
      "execution_count": 0,
      "outputs": [
        {
          "output_type": "stream",
          "text": [
            "kaggle.json  sample_data  sample_submission.csv  test.csv  train.csv\n",
            "/content\n"
          ],
          "name": "stdout"
        }
      ]
    },
    {
      "cell_type": "markdown",
      "metadata": {
        "id": "Fxcg_ISpwEXb",
        "colab_type": "text"
      },
      "source": [
        "--------------------------------------------------------------------------------\n",
        "#2 Building a Model\n"
      ]
    },
    {
      "cell_type": "markdown",
      "metadata": {
        "id": "hEpccEsaw7uc",
        "colab_type": "text"
      },
      "source": [
        "###2.1 Importing The Libraries"
      ]
    },
    {
      "cell_type": "code",
      "metadata": {
        "id": "zmCKAeGOf0su",
        "colab_type": "code",
        "colab": {}
      },
      "source": [
        "import pandas as pd # data processing, CSV file I/O (e.g. pd.read_csv)\n",
        "import numpy as np # linear algebra\n",
        "import matplotlib.pyplot as plt # generate plots, histograms, bar charts, errorcharts,  etc\n",
        "from keras.models import Sequential # a linear stack of layers\n",
        "from keras.layers import Dense, Dropout\n",
        "from keras import optimizers\n",
        "from sklearn.model_selection import train_test_split\n",
        "from sklearn import preprocessing\n",
        "from keras import regularizers\n",
        "from keras import metrics"
      ],
      "execution_count": 0,
      "outputs": []
    },
    {
      "cell_type": "markdown",
      "metadata": {
        "id": "ZYxsfcpMxDnP",
        "colab_type": "text"
      },
      "source": [
        "\n",
        "\n",
        "###2.2 Loading The Data\n"
      ]
    },
    {
      "cell_type": "code",
      "metadata": {
        "id": "xYg9tb6KxgYV",
        "colab_type": "code",
        "outputId": "a4d29fcf-90c4-49cb-d1f5-9305f38c2690",
        "colab": {
          "base_uri": "https://localhost:8080/",
          "height": 206
        }
      },
      "source": [
        "train = pd.read_csv('train.csv')\n",
        "test = pd.read_csv('test.csv')\n",
        "submition = pd.read_csv('sample_submission.csv')\n",
        "train.head()"
      ],
      "execution_count": 0,
      "outputs": [
        {
          "output_type": "execute_result",
          "data": {
            "text/html": [
              "<div>\n",
              "<style scoped>\n",
              "    .dataframe tbody tr th:only-of-type {\n",
              "        vertical-align: middle;\n",
              "    }\n",
              "\n",
              "    .dataframe tbody tr th {\n",
              "        vertical-align: top;\n",
              "    }\n",
              "\n",
              "    .dataframe thead th {\n",
              "        text-align: right;\n",
              "    }\n",
              "</style>\n",
              "<table border=\"1\" class=\"dataframe\">\n",
              "  <thead>\n",
              "    <tr style=\"text-align: right;\">\n",
              "      <th></th>\n",
              "      <th>Pregnancies</th>\n",
              "      <th>Glucose</th>\n",
              "      <th>BloodPressure</th>\n",
              "      <th>SkinThickness</th>\n",
              "      <th>Insulin</th>\n",
              "      <th>BMI</th>\n",
              "      <th>DiabetesPedigreeFunction</th>\n",
              "      <th>Age</th>\n",
              "      <th>Outcome</th>\n",
              "      <th>Id</th>\n",
              "    </tr>\n",
              "  </thead>\n",
              "  <tbody>\n",
              "    <tr>\n",
              "      <th>0</th>\n",
              "      <td>6</td>\n",
              "      <td>148</td>\n",
              "      <td>72</td>\n",
              "      <td>35</td>\n",
              "      <td>0</td>\n",
              "      <td>33.6</td>\n",
              "      <td>0.627</td>\n",
              "      <td>50</td>\n",
              "      <td>1</td>\n",
              "      <td>0</td>\n",
              "    </tr>\n",
              "    <tr>\n",
              "      <th>1</th>\n",
              "      <td>1</td>\n",
              "      <td>89</td>\n",
              "      <td>66</td>\n",
              "      <td>23</td>\n",
              "      <td>94</td>\n",
              "      <td>28.1</td>\n",
              "      <td>0.167</td>\n",
              "      <td>21</td>\n",
              "      <td>0</td>\n",
              "      <td>3</td>\n",
              "    </tr>\n",
              "    <tr>\n",
              "      <th>2</th>\n",
              "      <td>0</td>\n",
              "      <td>137</td>\n",
              "      <td>40</td>\n",
              "      <td>35</td>\n",
              "      <td>168</td>\n",
              "      <td>43.1</td>\n",
              "      <td>2.288</td>\n",
              "      <td>33</td>\n",
              "      <td>1</td>\n",
              "      <td>4</td>\n",
              "    </tr>\n",
              "    <tr>\n",
              "      <th>3</th>\n",
              "      <td>5</td>\n",
              "      <td>116</td>\n",
              "      <td>74</td>\n",
              "      <td>0</td>\n",
              "      <td>0</td>\n",
              "      <td>25.6</td>\n",
              "      <td>0.201</td>\n",
              "      <td>30</td>\n",
              "      <td>0</td>\n",
              "      <td>5</td>\n",
              "    </tr>\n",
              "    <tr>\n",
              "      <th>4</th>\n",
              "      <td>10</td>\n",
              "      <td>115</td>\n",
              "      <td>0</td>\n",
              "      <td>0</td>\n",
              "      <td>0</td>\n",
              "      <td>35.3</td>\n",
              "      <td>0.134</td>\n",
              "      <td>29</td>\n",
              "      <td>0</td>\n",
              "      <td>7</td>\n",
              "    </tr>\n",
              "  </tbody>\n",
              "</table>\n",
              "</div>"
            ],
            "text/plain": [
              "   Pregnancies  Glucose  BloodPressure  ...  Age  Outcome  Id\n",
              "0            6      148             72  ...   50        1   0\n",
              "1            1       89             66  ...   21        0   3\n",
              "2            0      137             40  ...   33        1   4\n",
              "3            5      116             74  ...   30        0   5\n",
              "4           10      115              0  ...   29        0   7\n",
              "\n",
              "[5 rows x 10 columns]"
            ]
          },
          "metadata": {
            "tags": []
          },
          "execution_count": 141
        }
      ]
    },
    {
      "cell_type": "code",
      "metadata": {
        "id": "gjHHhXNO7LMP",
        "colab_type": "code",
        "outputId": "73dc9614-2000-4e5d-ff51-02a130355eae",
        "colab": {
          "base_uri": "https://localhost:8080/",
          "height": 363
        }
      },
      "source": [
        "submition.head(10)"
      ],
      "execution_count": 0,
      "outputs": [
        {
          "output_type": "execute_result",
          "data": {
            "text/html": [
              "<div>\n",
              "<style scoped>\n",
              "    .dataframe tbody tr th:only-of-type {\n",
              "        vertical-align: middle;\n",
              "    }\n",
              "\n",
              "    .dataframe tbody tr th {\n",
              "        vertical-align: top;\n",
              "    }\n",
              "\n",
              "    .dataframe thead th {\n",
              "        text-align: right;\n",
              "    }\n",
              "</style>\n",
              "<table border=\"1\" class=\"dataframe\">\n",
              "  <thead>\n",
              "    <tr style=\"text-align: right;\">\n",
              "      <th></th>\n",
              "      <th>Id</th>\n",
              "      <th>Outcome</th>\n",
              "    </tr>\n",
              "  </thead>\n",
              "  <tbody>\n",
              "    <tr>\n",
              "      <th>0</th>\n",
              "      <td>1</td>\n",
              "      <td>0</td>\n",
              "    </tr>\n",
              "    <tr>\n",
              "      <th>1</th>\n",
              "      <td>2</td>\n",
              "      <td>1</td>\n",
              "    </tr>\n",
              "    <tr>\n",
              "      <th>2</th>\n",
              "      <td>6</td>\n",
              "      <td>1</td>\n",
              "    </tr>\n",
              "    <tr>\n",
              "      <th>3</th>\n",
              "      <td>14</td>\n",
              "      <td>1</td>\n",
              "    </tr>\n",
              "    <tr>\n",
              "      <th>4</th>\n",
              "      <td>15</td>\n",
              "      <td>1</td>\n",
              "    </tr>\n",
              "    <tr>\n",
              "      <th>5</th>\n",
              "      <td>18</td>\n",
              "      <td>1</td>\n",
              "    </tr>\n",
              "    <tr>\n",
              "      <th>6</th>\n",
              "      <td>21</td>\n",
              "      <td>1</td>\n",
              "    </tr>\n",
              "    <tr>\n",
              "      <th>7</th>\n",
              "      <td>23</td>\n",
              "      <td>1</td>\n",
              "    </tr>\n",
              "    <tr>\n",
              "      <th>8</th>\n",
              "      <td>24</td>\n",
              "      <td>1</td>\n",
              "    </tr>\n",
              "    <tr>\n",
              "      <th>9</th>\n",
              "      <td>27</td>\n",
              "      <td>1</td>\n",
              "    </tr>\n",
              "  </tbody>\n",
              "</table>\n",
              "</div>"
            ],
            "text/plain": [
              "   Id  Outcome\n",
              "0   1        0\n",
              "1   2        1\n",
              "2   6        1\n",
              "3  14        1\n",
              "4  15        1\n",
              "5  18        1\n",
              "6  21        1\n",
              "7  23        1\n",
              "8  24        1\n",
              "9  27        1"
            ]
          },
          "metadata": {
            "tags": []
          },
          "execution_count": 142
        }
      ]
    },
    {
      "cell_type": "markdown",
      "metadata": {
        "id": "Vpq-tlBTxp7t",
        "colab_type": "text"
      },
      "source": [
        "\n",
        "\n",
        "###2.3 Visualizing The Important Features\n"
      ]
    },
    {
      "cell_type": "code",
      "metadata": {
        "id": "Z5bH_U7SxuUE",
        "colab_type": "code",
        "outputId": "3183f3fa-19da-45bf-9d0f-b2f7d0f755ff",
        "colab": {
          "base_uri": "https://localhost:8080/",
          "height": 265
        }
      },
      "source": [
        "train.Glucose.hist()\n",
        "plt.show()"
      ],
      "execution_count": 0,
      "outputs": [
        {
          "output_type": "display_data",
          "data": {
            "image/png": "[encoded data removed]",
            "text/plain": [
              "<Figure size 432x288 with 1 Axes>"
            ]
          },
          "metadata": {
            "tags": []
          }
        }
      ]
    },
    {
      "cell_type": "code",
      "metadata": {
        "id": "e7NcgijkyCvD",
        "colab_type": "code",
        "outputId": "28547314-d32b-4554-b644-427dd5a52be1",
        "colab": {
          "base_uri": "https://localhost:8080/",
          "height": 265
        }
      },
      "source": [
        "train.Insulin.hist()\n",
        "plt.show()"
      ],
      "execution_count": 0,
      "outputs": [
        {
          "output_type": "display_data",
          "data": {
            "image/png": "[encoded data removed]",
            "text/plain": [
              "<Figure size 432x288 with 1 Axes>"
            ]
          },
          "metadata": {
            "tags": []
          }
        }
      ]
    },
    {
      "cell_type": "markdown",
      "metadata": {
        "id": "Z_eay4-MyETC",
        "colab_type": "text"
      },
      "source": [
        "###2.4  To avoid high variance/Overfitting on the training data, Scale the features in the range of 0 to 1 using `MinMaxScaler()`"
      ]
    },
    {
      "cell_type": "code",
      "metadata": {
        "id": "TlZshUVTyUxU",
        "colab_type": "code",
        "outputId": "2b8fa140-024c-405c-db98-399337d9ce22",
        "colab": {
          "base_uri": "https://localhost:8080/",
          "height": 206
        }
      },
      "source": [
        "min_max_scaler = preprocessing.MinMaxScaler()\n",
        "\n",
        "#Scaling The Training Data\n",
        "x = train.values\n",
        "x_scaled = min_max_scaler.fit_transform(x)\n",
        "train = pd.DataFrame(x_scaled)\n",
        "\n",
        "#Scaling The Testing Data\n",
        "y = test.values\n",
        "y_scaled = min_max_scaler.fit_transform(y)\n",
        "test = pd.DataFrame(y_scaled)\n",
        "train.head()"
      ],
      "execution_count": 0,
      "outputs": [
        {
          "output_type": "execute_result",
          "data": {
            "text/html": [
              "<div>\n",
              "<style scoped>\n",
              "    .dataframe tbody tr th:only-of-type {\n",
              "        vertical-align: middle;\n",
              "    }\n",
              "\n",
              "    .dataframe tbody tr th {\n",
              "        vertical-align: top;\n",
              "    }\n",
              "\n",
              "    .dataframe thead th {\n",
              "        text-align: right;\n",
              "    }\n",
              "</style>\n",
              "<table border=\"1\" class=\"dataframe\">\n",
              "  <thead>\n",
              "    <tr style=\"text-align: right;\">\n",
              "      <th></th>\n",
              "      <th>0</th>\n",
              "      <th>1</th>\n",
              "      <th>2</th>\n",
              "      <th>3</th>\n",
              "      <th>4</th>\n",
              "      <th>5</th>\n",
              "      <th>6</th>\n",
              "      <th>7</th>\n",
              "      <th>8</th>\n",
              "      <th>9</th>\n",
              "    </tr>\n",
              "  </thead>\n",
              "  <tbody>\n",
              "    <tr>\n",
              "      <th>0</th>\n",
              "      <td>0.352941</td>\n",
              "      <td>0.743719</td>\n",
              "      <td>0.590164</td>\n",
              "      <td>0.353535</td>\n",
              "      <td>0.000000</td>\n",
              "      <td>0.500745</td>\n",
              "      <td>0.234415</td>\n",
              "      <td>0.568627</td>\n",
              "      <td>1.0</td>\n",
              "      <td>0.000000</td>\n",
              "    </tr>\n",
              "    <tr>\n",
              "      <th>1</th>\n",
              "      <td>0.058824</td>\n",
              "      <td>0.447236</td>\n",
              "      <td>0.540984</td>\n",
              "      <td>0.232323</td>\n",
              "      <td>0.111111</td>\n",
              "      <td>0.418778</td>\n",
              "      <td>0.038002</td>\n",
              "      <td>0.000000</td>\n",
              "      <td>0.0</td>\n",
              "      <td>0.003911</td>\n",
              "    </tr>\n",
              "    <tr>\n",
              "      <th>2</th>\n",
              "      <td>0.000000</td>\n",
              "      <td>0.688442</td>\n",
              "      <td>0.327869</td>\n",
              "      <td>0.353535</td>\n",
              "      <td>0.198582</td>\n",
              "      <td>0.642325</td>\n",
              "      <td>0.943638</td>\n",
              "      <td>0.235294</td>\n",
              "      <td>1.0</td>\n",
              "      <td>0.005215</td>\n",
              "    </tr>\n",
              "    <tr>\n",
              "      <th>3</th>\n",
              "      <td>0.294118</td>\n",
              "      <td>0.582915</td>\n",
              "      <td>0.606557</td>\n",
              "      <td>0.000000</td>\n",
              "      <td>0.000000</td>\n",
              "      <td>0.381520</td>\n",
              "      <td>0.052519</td>\n",
              "      <td>0.176471</td>\n",
              "      <td>0.0</td>\n",
              "      <td>0.006519</td>\n",
              "    </tr>\n",
              "    <tr>\n",
              "      <th>4</th>\n",
              "      <td>0.588235</td>\n",
              "      <td>0.577889</td>\n",
              "      <td>0.000000</td>\n",
              "      <td>0.000000</td>\n",
              "      <td>0.000000</td>\n",
              "      <td>0.526080</td>\n",
              "      <td>0.023911</td>\n",
              "      <td>0.156863</td>\n",
              "      <td>0.0</td>\n",
              "      <td>0.009126</td>\n",
              "    </tr>\n",
              "  </tbody>\n",
              "</table>\n",
              "</div>"
            ],
            "text/plain": [
              "          0         1         2         3  ...         6         7    8         9\n",
              "0  0.352941  0.743719  0.590164  0.353535  ...  0.234415  0.568627  1.0  0.000000\n",
              "1  0.058824  0.447236  0.540984  0.232323  ...  0.038002  0.000000  0.0  0.003911\n",
              "2  0.000000  0.688442  0.327869  0.353535  ...  0.943638  0.235294  1.0  0.005215\n",
              "3  0.294118  0.582915  0.606557  0.000000  ...  0.052519  0.176471  0.0  0.006519\n",
              "4  0.588235  0.577889  0.000000  0.000000  ...  0.023911  0.156863  0.0  0.009126\n",
              "\n",
              "[5 rows x 10 columns]"
            ]
          },
          "metadata": {
            "tags": []
          },
          "execution_count": 145
        }
      ]
    },
    {
      "cell_type": "markdown",
      "metadata": {
        "id": "RSRRYSOMy47M",
        "colab_type": "text"
      },
      "source": [
        "\n",
        "\n",
        "###2.5 Visualizing The Important Features After Scaling\n"
      ]
    },
    {
      "cell_type": "code",
      "metadata": {
        "id": "blnAIfrgygCw",
        "colab_type": "code",
        "outputId": "80ae00b3-4165-4831-85a6-33f860f4359c",
        "colab": {
          "base_uri": "https://localhost:8080/",
          "height": 265
        }
      },
      "source": [
        "train[2].hist() #Glucose Concentration\n",
        "plt.show()"
      ],
      "execution_count": 0,
      "outputs": [
        {
          "output_type": "display_data",
          "data": {
            "image/png": "[encoded data removed]",
            "text/plain": [
              "<Figure size 432x288 with 1 Axes>"
            ]
          },
          "metadata": {
            "tags": []
          }
        }
      ]
    },
    {
      "cell_type": "code",
      "metadata": {
        "id": "-ja9aRnaykCp",
        "colab_type": "code",
        "outputId": "4762db02-d14f-4870-de1a-26e418fd67af",
        "colab": {
          "base_uri": "https://localhost:8080/",
          "height": 268
        }
      },
      "source": [
        "train[5].hist() #Serum Insulin\n",
        "plt.show()"
      ],
      "execution_count": 0,
      "outputs": [
        {
          "output_type": "display_data",
          "data": {
            "image/png": "[encoded data removed]",
            "text/plain": [
              "<Figure size 432x288 with 1 Axes>"
            ]
          },
          "metadata": {
            "tags": []
          }
        }
      ]
    },
    {
      "cell_type": "markdown",
      "metadata": {
        "id": "VpXw-SflzPoe",
        "colab_type": "text"
      },
      "source": [
        "###2.6 Spliting the training data into Traning and Developement Data\n"
      ]
    },
    {
      "cell_type": "code",
      "metadata": {
        "id": "6opTk33YypJW",
        "colab_type": "code",
        "colab": {}
      },
      "source": [
        "subtrain, dev = train_test_split(train, test_size=0.2)"
      ],
      "execution_count": 0,
      "outputs": []
    },
    {
      "cell_type": "code",
      "metadata": {
        "id": "bdjZCOwHcxbN",
        "colab_type": "code",
        "outputId": "d4e01281-c56c-4d95-936d-75ad49351d0b",
        "colab": {
          "base_uri": "https://localhost:8080/",
          "height": 35
        }
      },
      "source": [
        "subtrain.shape"
      ],
      "execution_count": 0,
      "outputs": [
        {
          "output_type": "execute_result",
          "data": {
            "text/plain": [
              "(428, 10)"
            ]
          },
          "metadata": {
            "tags": []
          },
          "execution_count": 149
        }
      ]
    },
    {
      "cell_type": "markdown",
      "metadata": {
        "id": "KRcCBVdXziC_",
        "colab_type": "text"
      },
      "source": [
        "###2.7 Setting Up the Hyperparameters"
      ]
    },
    {
      "cell_type": "code",
      "metadata": {
        "id": "v8uJwEFiywbv",
        "colab_type": "code",
        "colab": {}
      },
      "source": [
        "hidden_units = 300\n",
        "learning_rate = 0.005 # optimal learning rate: 0.005\n",
        "hidden_layer_act = 'tanh' # tanh, relu\n",
        "output_layer_act = 'sigmoid' # sigmoid, softmax\n",
        "no_epochs = 120 \n",
        "bsize = 192 # batch Size Of 192 "
      ],
      "execution_count": 0,
      "outputs": []
    },
    {
      "cell_type": "markdown",
      "metadata": {
        "id": "N8CP03kC77Dz",
        "colab_type": "text"
      },
      "source": [
        "hidden_units = 300\n",
        "learning_rate = 0.005 #Learning rate was quite optimal: 0.005\n",
        "hidden_layer_act = 'tanh' # tanh, relu\n",
        "output_layer_act = 'sigmoid' # sigmoid, softmax\n",
        "no_epochs = 120 #Increasing The epochs would overfit\n",
        "bsize = 192 #Batch Size Of 128 \n",
        "Final accuracy: 0.75"
      ]
    },
    {
      "cell_type": "markdown",
      "metadata": {
        "id": "Av7Sq376zpyX",
        "colab_type": "text"
      },
      "source": [
        "###2.8 Model Architechture\n"
      ]
    },
    {
      "cell_type": "code",
      "metadata": {
        "id": "8tf25fXgyzpw",
        "colab_type": "code",
        "colab": {}
      },
      "source": [
        "model = Sequential()\n",
        "\n",
        "model.add(Dense(hidden_units, input_dim=8, activation=hidden_layer_act))\n",
        "#model.add(Dropout(0.2))\n",
        "model.add(Dense(hidden_units, activation=hidden_layer_act))\n",
        "#model.add(Dropout(0.2))\n",
        "model.add(Dense(1, activation=output_layer_act))"
      ],
      "execution_count": 0,
      "outputs": []
    },
    {
      "cell_type": "markdown",
      "metadata": {
        "id": "tLsvlPF3z0Nt",
        "colab_type": "text"
      },
      "source": [
        "###2.9 Setting Up loss function, Optimizer, Metrics"
      ]
    },
    {
      "cell_type": "code",
      "metadata": {
        "id": "etUtnIEVzL4w",
        "colab_type": "code",
        "colab": {}
      },
      "source": [
        "adam = optimizers.Adam(lr=learning_rate, beta_1=0.9, beta_2=0.999, amsgrad=False)\n",
        "#adadelta = optimizers.Adadelta(learning_rate=1.0, rho=0.95)\n",
        "model.compile(loss='binary_crossentropy', optimizer = adam, metrics=['accuracy'])"
      ],
      "execution_count": 0,
      "outputs": []
    },
    {
      "cell_type": "markdown",
      "metadata": {
        "id": "2Coj0hZiz9Wo",
        "colab_type": "text"
      },
      "source": [
        "###2.10 Training the Model"
      ]
    },
    {
      "cell_type": "code",
      "metadata": {
        "id": "qMo5ov-0zWDF",
        "colab_type": "code",
        "outputId": "a5c84182-8eec-4241-85d4-a5c77a2d9133",
        "colab": {
          "base_uri": "https://localhost:8080/",
          "height": 1000
        }
      },
      "source": [
        "train_x = subtrain.iloc[:, 0:8]\n",
        "train_y = subtrain.iloc[:,8]\n",
        "\n",
        "model.fit(train_x, train_y, epochs=no_epochs, batch_size= bsize,  verbose=2)"
      ],
      "execution_count": 0,
      "outputs": [
        {
          "output_type": "stream",
          "text": [
            "Epoch 1/120\n",
            " - 1s - loss: 0.7797 - acc: 0.5234\n",
            "Epoch 2/120\n",
            " - 0s - loss: 0.6608 - acc: 0.6752\n",
            "Epoch 3/120\n",
            " - 0s - loss: 0.6436 - acc: 0.6215\n",
            "Epoch 4/120\n",
            " - 0s - loss: 0.6085 - acc: 0.6752\n",
            "Epoch 5/120\n",
            " - 0s - loss: 0.6483 - acc: 0.6729\n",
            "Epoch 6/120\n",
            " - 0s - loss: 0.5895 - acc: 0.6916\n",
            "Epoch 7/120\n",
            " - 0s - loss: 0.5930 - acc: 0.6589\n",
            "Epoch 8/120\n",
            " - 0s - loss: 0.5645 - acc: 0.7336\n",
            "Epoch 9/120\n",
            " - 0s - loss: 0.5579 - acc: 0.7383\n",
            "Epoch 10/120\n",
            " - 0s - loss: 0.5491 - acc: 0.7243\n",
            "Epoch 11/120\n",
            " - 0s - loss: 0.5329 - acc: 0.7336\n",
            "Epoch 12/120\n",
            " - 0s - loss: 0.5209 - acc: 0.7570\n",
            "Epoch 13/120\n",
            " - 0s - loss: 0.5051 - acc: 0.7687\n",
            "Epoch 14/120\n",
            " - 0s - loss: 0.4927 - acc: 0.7827\n",
            "Epoch 15/120\n",
            " - 0s - loss: 0.4996 - acc: 0.7664\n",
            "Epoch 16/120\n",
            " - 0s - loss: 0.4982 - acc: 0.7710\n",
            "Epoch 17/120\n",
            " - 0s - loss: 0.5224 - acc: 0.7547\n",
            "Epoch 18/120\n",
            " - 0s - loss: 0.4749 - acc: 0.7897\n",
            "Epoch 19/120\n",
            " - 0s - loss: 0.4842 - acc: 0.7850\n",
            "Epoch 20/120\n",
            " - 0s - loss: 0.4999 - acc: 0.7710\n",
            "Epoch 21/120\n",
            " - 0s - loss: 0.4997 - acc: 0.7500\n",
            "Epoch 22/120\n",
            " - 0s - loss: 0.4790 - acc: 0.7804\n",
            "Epoch 23/120\n",
            " - 0s - loss: 0.4758 - acc: 0.7874\n",
            "Epoch 24/120\n",
            " - 0s - loss: 0.4944 - acc: 0.7757\n",
            "Epoch 25/120\n",
            " - 0s - loss: 0.4977 - acc: 0.7757\n",
            "Epoch 26/120\n",
            " - 0s - loss: 0.4845 - acc: 0.7897\n",
            "Epoch 27/120\n",
            " - 0s - loss: 0.4904 - acc: 0.7664\n",
            "Epoch 28/120\n",
            " - 0s - loss: 0.4983 - acc: 0.7640\n",
            "Epoch 29/120\n",
            " - 0s - loss: 0.4920 - acc: 0.7687\n",
            "Epoch 30/120\n",
            " - 0s - loss: 0.4848 - acc: 0.7757\n",
            "Epoch 31/120\n",
            " - 0s - loss: 0.4779 - acc: 0.7874\n",
            "Epoch 32/120\n",
            " - 0s - loss: 0.4883 - acc: 0.7850\n",
            "Epoch 33/120\n",
            " - 0s - loss: 0.4959 - acc: 0.7710\n",
            "Epoch 34/120\n",
            " - 0s - loss: 0.4990 - acc: 0.7757\n",
            "Epoch 35/120\n",
            " - 0s - loss: 0.4869 - acc: 0.7874\n",
            "Epoch 36/120\n",
            " - 0s - loss: 0.4944 - acc: 0.7593\n",
            "Epoch 37/120\n",
            " - 0s - loss: 0.4801 - acc: 0.7827\n",
            "Epoch 38/120\n",
            " - 0s - loss: 0.4902 - acc: 0.7850\n",
            "Epoch 39/120\n",
            " - 0s - loss: 0.4926 - acc: 0.7850\n",
            "Epoch 40/120\n",
            " - 0s - loss: 0.4755 - acc: 0.7827\n",
            "Epoch 41/120\n",
            " - 0s - loss: 0.4971 - acc: 0.7710\n",
            "Epoch 42/120\n",
            " - 0s - loss: 0.5054 - acc: 0.7617\n",
            "Epoch 43/120\n",
            " - 0s - loss: 0.4861 - acc: 0.7874\n",
            "Epoch 44/120\n",
            " - 0s - loss: 0.4893 - acc: 0.7827\n",
            "Epoch 45/120\n",
            " - 0s - loss: 0.4795 - acc: 0.7874\n",
            "Epoch 46/120\n",
            " - 0s - loss: 0.4810 - acc: 0.7757\n",
            "Epoch 47/120\n",
            " - 0s - loss: 0.4771 - acc: 0.7850\n",
            "Epoch 48/120\n",
            " - 0s - loss: 0.4819 - acc: 0.7827\n",
            "Epoch 49/120\n",
            " - 0s - loss: 0.4725 - acc: 0.7967\n",
            "Epoch 50/120\n",
            " - 0s - loss: 0.4724 - acc: 0.7991\n",
            "Epoch 51/120\n",
            " - 0s - loss: 0.4753 - acc: 0.7850\n",
            "Epoch 52/120\n",
            " - 0s - loss: 0.4764 - acc: 0.7897\n",
            "Epoch 53/120\n",
            " - 0s - loss: 0.4800 - acc: 0.7897\n",
            "Epoch 54/120\n",
            " - 0s - loss: 0.4839 - acc: 0.7804\n",
            "Epoch 55/120\n",
            " - 0s - loss: 0.4819 - acc: 0.7944\n",
            "Epoch 56/120\n",
            " - 0s - loss: 0.4874 - acc: 0.7734\n",
            "Epoch 57/120\n",
            " - 0s - loss: 0.4831 - acc: 0.7827\n",
            "Epoch 58/120\n",
            " - 0s - loss: 0.4903 - acc: 0.7850\n",
            "Epoch 59/120\n",
            " - 0s - loss: 0.4790 - acc: 0.7757\n",
            "Epoch 60/120\n",
            " - 0s - loss: 0.4896 - acc: 0.7897\n",
            "Epoch 61/120\n",
            " - 0s - loss: 0.4776 - acc: 0.7897\n",
            "Epoch 62/120\n",
            " - 0s - loss: 0.4734 - acc: 0.7921\n",
            "Epoch 63/120\n",
            " - 0s - loss: 0.4737 - acc: 0.7850\n",
            "Epoch 64/120\n",
            " - 0s - loss: 0.4755 - acc: 0.7921\n",
            "Epoch 65/120\n",
            " - 0s - loss: 0.4759 - acc: 0.7967\n",
            "Epoch 66/120\n",
            " - 0s - loss: 0.4774 - acc: 0.7827\n",
            "Epoch 67/120\n",
            " - 0s - loss: 0.4737 - acc: 0.7921\n",
            "Epoch 68/120\n",
            " - 0s - loss: 0.4740 - acc: 0.7874\n",
            "Epoch 69/120\n",
            " - 0s - loss: 0.4774 - acc: 0.7944\n",
            "Epoch 70/120\n",
            " - 0s - loss: 0.4753 - acc: 0.7897\n",
            "Epoch 71/120\n",
            " - 0s - loss: 0.4750 - acc: 0.7827\n",
            "Epoch 72/120\n",
            " - 0s - loss: 0.4740 - acc: 0.7897\n",
            "Epoch 73/120\n",
            " - 0s - loss: 0.4788 - acc: 0.7897\n",
            "Epoch 74/120\n",
            " - 0s - loss: 0.4744 - acc: 0.7967\n",
            "Epoch 75/120\n",
            " - 0s - loss: 0.4729 - acc: 0.7991\n",
            "Epoch 76/120\n",
            " - 0s - loss: 0.4775 - acc: 0.7921\n",
            "Epoch 77/120\n",
            " - 0s - loss: 0.4798 - acc: 0.7850\n",
            "Epoch 78/120\n",
            " - 0s - loss: 0.4730 - acc: 0.7944\n",
            "Epoch 79/120\n",
            " - 0s - loss: 0.4740 - acc: 0.7897\n",
            "Epoch 80/120\n",
            " - 0s - loss: 0.4754 - acc: 0.7874\n",
            "Epoch 81/120\n",
            " - 0s - loss: 0.4779 - acc: 0.7874\n",
            "Epoch 82/120\n",
            " - 0s - loss: 0.4732 - acc: 0.7874\n",
            "Epoch 83/120\n",
            " - 0s - loss: 0.4814 - acc: 0.7664\n",
            "Epoch 84/120\n",
            " - 0s - loss: 0.4754 - acc: 0.7780\n",
            "Epoch 85/120\n",
            " - 0s - loss: 0.4873 - acc: 0.7827\n",
            "Epoch 86/120\n",
            " - 0s - loss: 0.4812 - acc: 0.7710\n",
            "Epoch 87/120\n",
            " - 0s - loss: 0.4732 - acc: 0.7827\n",
            "Epoch 88/120\n",
            " - 0s - loss: 0.4841 - acc: 0.7850\n",
            "Epoch 89/120\n",
            " - 0s - loss: 0.4746 - acc: 0.7827\n",
            "Epoch 90/120\n",
            " - 0s - loss: 0.4747 - acc: 0.7874\n",
            "Epoch 91/120\n",
            " - 0s - loss: 0.4771 - acc: 0.7734\n",
            "Epoch 92/120\n",
            " - 0s - loss: 0.4726 - acc: 0.7921\n",
            "Epoch 93/120\n",
            " - 0s - loss: 0.4768 - acc: 0.7991\n",
            "Epoch 94/120\n",
            " - 0s - loss: 0.4729 - acc: 0.7967\n",
            "Epoch 95/120\n",
            " - 0s - loss: 0.4765 - acc: 0.7897\n",
            "Epoch 96/120\n",
            " - 0s - loss: 0.4699 - acc: 0.7897\n",
            "Epoch 97/120\n",
            " - 0s - loss: 0.4860 - acc: 0.7827\n",
            "Epoch 98/120\n",
            " - 0s - loss: 0.4777 - acc: 0.7827\n",
            "Epoch 99/120\n",
            " - 0s - loss: 0.4803 - acc: 0.7921\n",
            "Epoch 100/120\n",
            " - 0s - loss: 0.4762 - acc: 0.7967\n",
            "Epoch 101/120\n",
            " - 0s - loss: 0.4747 - acc: 0.8037\n",
            "Epoch 102/120\n",
            " - 0s - loss: 0.4741 - acc: 0.7897\n",
            "Epoch 103/120\n",
            " - 0s - loss: 0.4828 - acc: 0.7874\n",
            "Epoch 104/120\n",
            " - 0s - loss: 0.4710 - acc: 0.7967\n",
            "Epoch 105/120\n",
            " - 0s - loss: 0.4766 - acc: 0.7874\n",
            "Epoch 106/120\n",
            " - 0s - loss: 0.4781 - acc: 0.7780\n",
            "Epoch 107/120\n",
            " - 0s - loss: 0.4825 - acc: 0.7780\n",
            "Epoch 108/120\n",
            " - 0s - loss: 0.4753 - acc: 0.7897\n",
            "Epoch 109/120\n",
            " - 0s - loss: 0.4897 - acc: 0.7664\n",
            "Epoch 110/120\n",
            " - 0s - loss: 0.4792 - acc: 0.7967\n",
            "Epoch 111/120\n",
            " - 0s - loss: 0.4771 - acc: 0.7897\n",
            "Epoch 112/120\n",
            " - 0s - loss: 0.4908 - acc: 0.7687\n",
            "Epoch 113/120\n",
            " - 0s - loss: 0.4725 - acc: 0.7874\n",
            "Epoch 114/120\n",
            " - 0s - loss: 0.4796 - acc: 0.7897\n",
            "Epoch 115/120\n",
            " - 0s - loss: 0.4748 - acc: 0.7897\n",
            "Epoch 116/120\n",
            " - 0s - loss: 0.4776 - acc: 0.7967\n",
            "Epoch 117/120\n",
            " - 0s - loss: 0.4703 - acc: 0.7967\n",
            "Epoch 118/120\n",
            " - 0s - loss: 0.4843 - acc: 0.7734\n",
            "Epoch 119/120\n",
            " - 0s - loss: 0.4883 - acc: 0.7757\n",
            "Epoch 120/120\n",
            " - 0s - loss: 0.4823 - acc: 0.7804\n"
          ],
          "name": "stdout"
        },
        {
          "output_type": "execute_result",
          "data": {
            "text/plain": [
              "<keras.callbacks.History at 0x7f0c6a1ad5f8>"
            ]
          },
          "metadata": {
            "tags": []
          },
          "execution_count": 174
        }
      ]
    },
    {
      "cell_type": "markdown",
      "metadata": {
        "id": "brWp7w7A0Hag",
        "colab_type": "text"
      },
      "source": [
        "###2.11 Validation Loss and Accuracy"
      ]
    },
    {
      "cell_type": "code",
      "metadata": {
        "id": "5Hj_TA6P0PqS",
        "colab_type": "code",
        "outputId": "9484735a-adbe-4ff2-cbef-da4a6d8f799c",
        "colab": {
          "base_uri": "https://localhost:8080/",
          "height": 72
        }
      },
      "source": [
        "val_loss, val_acc = model.evaluate(dev.iloc[:,0:8], dev.iloc[:,8])\n",
        "print(\"Validation Loss : \", val_loss)\n",
        "print(\"Validation Acc : \",val_acc)"
      ],
      "execution_count": 0,
      "outputs": [
        {
          "output_type": "stream",
          "text": [
            "108/108 [==============================] - 0s 3ms/step\n",
            "Validation Loss :  0.4512185608899152\n",
            "Validation Acc :  0.7962962940887168\n"
          ],
          "name": "stdout"
        }
      ]
    },
    {
      "cell_type": "markdown",
      "metadata": {
        "id": "26h0-HFz0eQK",
        "colab_type": "text"
      },
      "source": [
        "###2.12 Predicting the Outputs for the Training Data"
      ]
    },
    {
      "cell_type": "code",
      "metadata": {
        "id": "kQdcQAwd69YA",
        "colab_type": "code",
        "outputId": "0a2af82b-e63d-4307-90c3-08197b960fd9",
        "colab": {
          "base_uri": "https://localhost:8080/",
          "height": 1000
        }
      },
      "source": [
        "test_x=test.iloc[:,0:8]\n",
        "predictions = model.predict(test_x)\n",
        "print(predictions)"
      ],
      "execution_count": 0,
      "outputs": [
        {
          "output_type": "stream",
          "text": [
            "[[0.06341761]\n",
            " [0.91391706]\n",
            " [0.09391961]\n",
            " [0.7648232 ]\n",
            " [0.6316904 ]\n",
            " [0.44074833]\n",
            " [0.6042946 ]\n",
            " [0.36669213]\n",
            " [0.82068646]\n",
            " [0.0877279 ]\n",
            " [0.5634896 ]\n",
            " [0.7031368 ]\n",
            " [0.21374995]\n",
            " [0.6343019 ]\n",
            " [0.16915664]\n",
            " [0.9720683 ]\n",
            " [0.8259669 ]\n",
            " [0.06219628]\n",
            " [0.5177481 ]\n",
            " [0.10349363]\n",
            " [0.7986071 ]\n",
            " [0.4080111 ]\n",
            " [0.25836802]\n",
            " [0.01439157]\n",
            " [0.16774851]\n",
            " [0.26440758]\n",
            " [0.05406433]\n",
            " [0.00601873]\n",
            " [0.22257549]\n",
            " [0.87825626]\n",
            " [0.14689004]\n",
            " [0.05772147]\n",
            " [0.35837817]\n",
            " [0.15539667]\n",
            " [0.72453773]\n",
            " [0.852476  ]\n",
            " [0.07570475]\n",
            " [0.6366658 ]\n",
            " [0.37739024]\n",
            " [0.18143311]\n",
            " [0.34601563]\n",
            " [0.2341761 ]\n",
            " [0.32651472]\n",
            " [0.29651386]\n",
            " [0.8130035 ]\n",
            " [0.88390225]\n",
            " [0.7763258 ]\n",
            " [0.39675394]\n",
            " [0.10777232]\n",
            " [0.33606398]\n",
            " [0.45450795]\n",
            " [0.6410248 ]\n",
            " [0.8224801 ]\n",
            " [0.70341194]\n",
            " [0.92746663]\n",
            " [0.2070607 ]\n",
            " [0.5837654 ]\n",
            " [0.35237092]\n",
            " [0.7245929 ]\n",
            " [0.25919455]\n",
            " [0.08182219]\n",
            " [0.4631581 ]\n",
            " [0.00692135]\n",
            " [0.12152675]\n",
            " [0.8912103 ]\n",
            " [0.45719197]\n",
            " [0.4863599 ]\n",
            " [0.99012667]\n",
            " [0.79997116]\n",
            " [0.73882216]\n",
            " [0.2080076 ]\n",
            " [0.16913876]\n",
            " [0.46669936]\n",
            " [0.10268351]\n",
            " [0.4507004 ]\n",
            " [0.05063269]\n",
            " [0.963464  ]\n",
            " [0.8986959 ]\n",
            " [0.08639953]\n",
            " [0.53303456]\n",
            " [0.6365229 ]\n",
            " [0.9647109 ]\n",
            " [0.6171293 ]\n",
            " [0.11485147]\n",
            " [0.27530122]\n",
            " [0.8847606 ]\n",
            " [0.626056  ]\n",
            " [0.8482834 ]\n",
            " [0.04758412]\n",
            " [0.47412857]\n",
            " [0.763306  ]\n",
            " [0.7380949 ]\n",
            " [0.6209602 ]\n",
            " [0.76719785]\n",
            " [0.64169425]\n",
            " [0.10202873]\n",
            " [0.7900357 ]\n",
            " [0.5000474 ]\n",
            " [0.09901169]\n",
            " [0.88380134]\n",
            " [0.8219437 ]\n",
            " [0.25133902]\n",
            " [0.35988307]\n",
            " [0.23377773]\n",
            " [0.0091494 ]\n",
            " [0.6166003 ]\n",
            " [0.67531264]\n",
            " [0.6874767 ]\n",
            " [0.35332435]\n",
            " [0.08523226]\n",
            " [0.4834122 ]\n",
            " [0.8825901 ]\n",
            " [0.3601815 ]\n",
            " [0.5191705 ]\n",
            " [0.88008535]\n",
            " [0.07133505]\n",
            " [0.14887354]\n",
            " [0.46187395]\n",
            " [0.67177916]\n",
            " [0.23213702]\n",
            " [0.220642  ]\n",
            " [0.8824811 ]\n",
            " [0.07166821]\n",
            " [0.2927273 ]\n",
            " [0.51499254]\n",
            " [0.17521262]\n",
            " [0.2897176 ]\n",
            " [0.8235017 ]\n",
            " [0.47567013]\n",
            " [0.20338002]\n",
            " [0.7638446 ]\n",
            " [0.05551049]\n",
            " [0.24753618]\n",
            " [0.8642428 ]\n",
            " [0.39262033]\n",
            " [0.13735747]\n",
            " [0.18061435]\n",
            " [0.23600215]\n",
            " [0.5447593 ]\n",
            " [0.59936464]\n",
            " [0.4046343 ]\n",
            " [0.22145596]\n",
            " [0.91284686]\n",
            " [0.30468342]\n",
            " [0.39256737]\n",
            " [0.6755939 ]\n",
            " [0.7357248 ]\n",
            " [0.23763344]\n",
            " [0.95407784]\n",
            " [0.21977633]\n",
            " [0.01308542]\n",
            " [0.17717555]\n",
            " [0.2845953 ]\n",
            " [0.11673653]\n",
            " [0.87322557]\n",
            " [0.04184628]\n",
            " [0.17942524]\n",
            " [0.4219007 ]\n",
            " [0.51431805]\n",
            " [0.5671072 ]\n",
            " [0.5242805 ]\n",
            " [0.9153148 ]\n",
            " [0.4865815 ]\n",
            " [0.10825676]\n",
            " [0.7454345 ]\n",
            " [0.18087211]\n",
            " [0.26705348]\n",
            " [0.6523076 ]\n",
            " [0.70573604]\n",
            " [0.5970539 ]\n",
            " [0.55014336]\n",
            " [0.24351424]\n",
            " [0.90652966]\n",
            " [0.2507028 ]\n",
            " [0.14606401]\n",
            " [0.13174438]\n",
            " [0.3033364 ]\n",
            " [0.9089891 ]\n",
            " [0.04565072]\n",
            " [0.11349159]\n",
            " [0.43495327]\n",
            " [0.02742377]\n",
            " [0.5140904 ]\n",
            " [0.2682354 ]\n",
            " [0.2517317 ]\n",
            " [0.28343618]\n",
            " [0.66499805]\n",
            " [0.3085909 ]\n",
            " [0.32172787]\n",
            " [0.6954111 ]\n",
            " [0.57825387]\n",
            " [0.09449092]\n",
            " [0.06492451]\n",
            " [0.36999613]\n",
            " [0.38655803]\n",
            " [0.40455633]\n",
            " [0.16611895]\n",
            " [0.8858291 ]\n",
            " [0.2603045 ]\n",
            " [0.14398855]\n",
            " [0.02413639]\n",
            " [0.09871143]\n",
            " [0.4637122 ]\n",
            " [0.3363356 ]\n",
            " [0.7454213 ]\n",
            " [0.47453985]\n",
            " [0.61392415]\n",
            " [0.6681802 ]\n",
            " [0.09415874]\n",
            " [0.6148926 ]\n",
            " [0.8477962 ]\n",
            " [0.18974513]\n",
            " [0.30194807]\n",
            " [0.11313146]\n",
            " [0.32748747]\n",
            " [0.18842047]\n",
            " [0.18528238]\n",
            " [0.25281805]\n",
            " [0.19548017]\n",
            " [0.34203762]\n",
            " [0.27457488]\n",
            " [0.1675354 ]\n",
            " [0.96153504]\n",
            " [0.36160767]\n",
            " [0.81198573]\n",
            " [0.5566354 ]\n",
            " [0.39763188]\n",
            " [0.9622114 ]\n",
            " [0.96537673]\n",
            " [0.19050378]\n",
            " [0.26204723]\n",
            " [0.49550807]]\n"
          ],
          "name": "stdout"
        }
      ]
    },
    {
      "cell_type": "markdown",
      "metadata": {
        "id": "W5GLxxUl03MH",
        "colab_type": "text"
      },
      "source": [
        "###2.13 Generate a Submission File\n"
      ]
    },
    {
      "cell_type": "code",
      "metadata": {
        "id": "-qIbIbYn8DP3",
        "colab_type": "code",
        "outputId": "da7be44c-d29b-4cea-bba4-d0b1dbd03d9f",
        "colab": {
          "base_uri": "https://localhost:8080/",
          "height": 55
        }
      },
      "source": [
        "fileName = 'submitionE' + str(no_epochs) + 'B' + str(bsize) + hidden_layer_act +'.csv'\n",
        "rounded = [int(round(x[0])) for x in predictions]\n",
        "print(rounded)\n",
        "submition.Outcome = rounded\n",
        "submition.to_csv(fileName,index = False)"
      ],
      "execution_count": 0,
      "outputs": [
        {
          "output_type": "stream",
          "text": [
            "[0, 1, 0, 1, 1, 0, 1, 0, 1, 0, 1, 1, 0, 1, 0, 1, 1, 0, 1, 0, 1, 0, 0, 0, 0, 0, 0, 0, 0, 1, 0, 0, 0, 0, 1, 1, 0, 1, 0, 0, 0, 0, 0, 0, 1, 1, 1, 0, 0, 0, 0, 1, 1, 1, 1, 0, 1, 0, 1, 0, 0, 0, 0, 0, 1, 0, 0, 1, 1, 1, 0, 0, 0, 0, 0, 0, 1, 1, 0, 1, 1, 1, 1, 0, 0, 1, 1, 1, 0, 0, 1, 1, 1, 1, 1, 0, 1, 1, 0, 1, 1, 0, 0, 0, 0, 1, 1, 1, 0, 0, 0, 1, 0, 1, 1, 0, 0, 0, 1, 0, 0, 1, 0, 0, 1, 0, 0, 1, 0, 0, 1, 0, 0, 1, 0, 0, 0, 0, 1, 1, 0, 0, 1, 0, 0, 1, 1, 0, 1, 0, 0, 0, 0, 0, 1, 0, 0, 0, 1, 1, 1, 1, 0, 0, 1, 0, 0, 1, 1, 1, 1, 0, 1, 0, 0, 0, 0, 1, 0, 0, 0, 0, 1, 0, 0, 0, 1, 0, 0, 1, 1, 0, 0, 0, 0, 0, 0, 1, 0, 0, 0, 0, 0, 0, 1, 0, 1, 1, 0, 1, 1, 0, 0, 0, 0, 0, 0, 0, 0, 0, 0, 0, 1, 0, 1, 1, 0, 1, 1, 0, 0, 0]\n"
          ],
          "name": "stdout"
        }
      ]
    },
    {
      "cell_type": "code",
      "metadata": {
        "id": "ooG79tkA9ZRz",
        "colab_type": "code",
        "outputId": "d06e6ad4-0d41-417c-e145-b97b415cf97e",
        "colab": {
          "base_uri": "https://localhost:8080/",
          "height": 109
        }
      },
      "source": [
        "!ls"
      ],
      "execution_count": 0,
      "outputs": [
        {
          "output_type": "stream",
          "text": [
            "kaggle.json\t\t   submitionE120B192.csv      submitionE140B192.csv\n",
            "sample_data\t\t   submitionE120B192tanh.csv  test.csv\n",
            "sample_submission.csv\t   submitionE125B192relu.csv  train.csv\n",
            "submition4.csv\t\t   submitionE125B192tanh.csv\n",
            "submitionE110B192tanh.csv  submitionE130B192relu.csv\n"
          ],
          "name": "stdout"
        }
      ]
    },
    {
      "cell_type": "markdown",
      "metadata": {
        "id": "QY8yJQH32XMK",
        "colab_type": "text"
      },
      "source": [
        "###2.14 Downloading the Submission File to your Local File System"
      ]
    },
    {
      "cell_type": "code",
      "metadata": {
        "id": "_fWHKwhl16Ep",
        "colab_type": "code",
        "colab": {}
      },
      "source": [
        "files.download(fileName)"
      ],
      "execution_count": 0,
      "outputs": []
    }
  ]
}